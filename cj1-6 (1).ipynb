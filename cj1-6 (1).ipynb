{
  "metadata": {
    "kernelspec": {
      "name": "python",
      "display_name": "Python (Pyodide)",
      "language": "python"
    },
    "language_info": {
      "codemirror_mode": {
        "name": "python",
        "version": 3
      },
      "file_extension": ".py",
      "mimetype": "text/x-python",
      "name": "python",
      "nbconvert_exporter": "python",
      "pygments_lexer": "ipython3",
      "version": "3.8"
    }
  },
  "nbformat_minor": 4,
  "nbformat": 4,
  "cells": [
    {
      "cell_type": "markdown",
      "source": "functions that return sin(x) and cos(x)",
      "metadata": {}
    },
    {
      "cell_type": "code",
      "source": "\n            import math\n\n            def sin_x(x): \n                return math.sin(x)\n",
      "metadata": {
        "trusted": true
      },
      "outputs": [],
      "execution_count": null
    },
    {
      "cell_type": "code",
      "source": "\n            def cos_x(x):\n                return math.cos(x)\n            ",
      "metadata": {
        "trusted": true
      },
      "outputs": [],
      "execution_count": null
    },
    {
      "cell_type": "code",
      "source": "\n            import numpy as np\n\n            x_values = np.linspace(0, 2 * np.pi, 1000)\n            sin_values = [sin_x(x) for x in x_values]\n            cos_values = [cos_x(x) for x in x_values]\n            ",
      "metadata": {
        "trusted": true
      },
      "outputs": [],
      "execution_count": null
    },
    {
      "cell_type": "code",
      "source": "\n            for i in range(10):\n                print(f\"{x_values[i]:.4f}\t{sin_values[i]:.4f}\t{cos_values[i]:.4f}\")\n            ",
      "metadata": {
        "trusted": true
      },
      "outputs": [],
      "execution_count": null
    },
    {
      "cell_type": "markdown",
      "source": "",
      "metadata": {}
    }
  ]
}