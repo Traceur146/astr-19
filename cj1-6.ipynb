{
 "cells": [
  {
   "cell_type": "code",
   "execution_count": null,
   "id": "4edd0425",
   "metadata": {},
   "outputs": [],
   "source": [
    "import numpy as np\n",
    "from tabulate import tabulate"
   ]
  },
  {
   "cell_type": "markdown",
   "id": "b630ecd1",
   "metadata": {},
   "source": [
    "return sin(x) cos(x)"
   ]
  },
  {
   "cell_type": "code",
   "execution_count": null,
   "id": "ab79d7fb",
   "metadata": {},
   "outputs": [],
   "source": [
    "def sx(a):\n",
    "    return np.sin(a)\n",
    "def cx(b):\n",
    "    return np.cos(b)"
   ]
  },
  {
   "cell_type": "markdown",
   "id": "1910c059",
   "metadata": {},
   "source": [
    "Tabulate sin(x) and cos(x)"
   ]
  },
  {
   "cell_type": "code",
   "execution_count": null,
   "id": "0d794a5f",
   "metadata": {},
   "outputs": [],
   "source": [
    "x = np.linspace(0, np.pi, 1000)\n",
    "y = sx(x)\n",
    "z = cx(x)\n",
    "\n",
    "table_data = [(a, b, c) for a, b, c in zip(x, y, z)]\n",
    "table_headers = ['X', 'sin(x)', 'cos(x)']\n",
    "print(tabulate(table_data, tablefmt = 'grid', headers = table_headers, floatfmt = '.3f'))"
   ]
  },
  {
   "cell_type": "markdown",
   "id": "025c1f39",
   "metadata": {},
   "source": [
    "Use a for loop to print out the first 10 values of x, sin(x), cos(x) in columns"
   ]
  },
  {
   "cell_type": "code",
   "execution_count": null,
   "id": "6f61f1de",
   "metadata": {
    "scrolled": true
   },
   "outputs": [],
   "source": [
    "list1 = x\n",
    "for i in list1[:10]:\n",
    "    print(i, sx(i), cx(i))"
   ]
  }
 ],
 "metadata": {
  "kernelspec": {
   "display_name": "Python 3",
   "language": "python",
   "name": "python3"
  },
  "language_info": {
   "codemirror_mode": {
    "name": "ipython",
    "version": 3
   },
   "file_extension": ".py",
   "mimetype": "text/x-python",
   "name": "python",
   "nbconvert_exporter": "python",
   "pygments_lexer": "ipython3",
   "version": "3.8.8"
  }
 },
 "nbformat": 4,
 "nbformat_minor": 5
}
