{
 "cells": [
  {
   "cell_type": "code",
   "execution_count": 1,
   "id": "2cf932b8",
   "metadata": {},
   "outputs": [],
   "source": [
    "import matplotlib.pyplot as plt\n",
    "import numpy as np"
   ]
  },
  {
   "cell_type": "code",
   "execution_count": 4,
   "id": "f95242d0",
   "metadata": {},
   "outputs": [
    {
     "data": {
      "image/png": "[encoded data removed]",
      "text/plain": [
       "<Figure size 432x288 with 1 Axes>"
      ]
     },
     "metadata": {
      "needs_background": "light"
     },
     "output_type": "display_data"
    }
   ],
   "source": [
    "n = 1000\n",
    "\n",
    "x = np.random.standard_normal(n)\n",
    "\n",
    "width = 0.08\n",
    "histmin = np.floor(min(x))\n",
    "histmax = np.ceil(max(x))\n",
    "\n",
    "bins = np.arange(histmin, histmax, width)\n",
    "plt.hist(x, bins = bins, alpha = 0.5, edgecolor = 'black')\n",
    "plt.xlabel('x')\n",
    "plt.ylabel('N per bin')\n",
    "plt.savefig('Session10.pdf', bbox_inches = 'tight', dpi = 600)"
   ]
  },
  {
   "cell_type": "code",
   "execution_count": null,
   "id": "5182f798",
   "metadata": {},
   "outputs": [],
   "source": []
  }
 ],
 "metadata": {
  "kernelspec": {
   "display_name": "Python 3",
   "language": "python",
   "name": "python3"
  },
  "language_info": {
   "codemirror_mode": {
    "name": "ipython",
    "version": 3
   },
   "file_extension": ".py",
   "mimetype": "text/x-python",
   "name": "python",
   "nbconvert_exporter": "python",
   "pygments_lexer": "ipython3",
   "version": "3.8.8"
  }
 },
 "nbformat": 4,
 "nbformat_minor": 5
}
